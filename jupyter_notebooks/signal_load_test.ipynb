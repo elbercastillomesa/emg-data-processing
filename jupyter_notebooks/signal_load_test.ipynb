{
 "cells": [
  {
   "cell_type": "code",
   "execution_count": null,
   "metadata": {},
   "outputs": [],
   "source": [
    "%pip install numpy\n",
    "%pip install scipy\n",
    "%pip install pandas"
   ]
  },
  {
   "cell_type": "code",
   "execution_count": null,
   "metadata": {},
   "outputs": [],
   "source": [
    "import scipy.io\n",
    "import numpy as np\n",
    "import os\n",
    "import pandas as pd\n",
    "from datetime import datetime, date, time\n",
    "\n",
    "healthy_signals_path = os.path.join(os.pardir, 'raw_signals', 'Sanos')"
   ]
  },
  {
   "cell_type": "code",
   "execution_count": null,
   "metadata": {},
   "outputs": [],
   "source": [
    "# Load test EMG signal\n",
    "test_file = os.path.join(healthy_signals_path, 'brysagix', 'emg_raw.mat')\n",
    "from_matlab = scipy.io.loadmat(test_file)"
   ]
  },
  {
   "cell_type": "code",
   "execution_count": null,
   "metadata": {},
   "outputs": [],
   "source": [
    "mdata = from_matlab['emg_raw']  # variable in mat file\n",
    "mdtype = mdata.dtype  # dtypes of structures are \"unsized objects\"\n",
    "movements_matrix = {n: mdata[n][0, 0] for n in mdtype.names}"
   ]
  },
  {
   "cell_type": "code",
   "execution_count": null,
   "metadata": {},
   "outputs": [],
   "source": [
    "movements_list = movements_matrix.keys()  # ['ext_dedo', 'ext_mano', 'fle_dedo', 'fle_mano', 'pronacion', 'suspinacion']"
   ]
  }
 ],
 "metadata": {
  "kernelspec": {
   "display_name": ".venv",
   "language": "python",
   "name": "python3"
  },
  "language_info": {
   "codemirror_mode": {
    "name": "ipython",
    "version": 3
   },
   "file_extension": ".py",
   "mimetype": "text/x-python",
   "name": "python",
   "nbconvert_exporter": "python",
   "pygments_lexer": "ipython3",
   "version": "3.12.7"
  }
 },
 "nbformat": 4,
 "nbformat_minor": 2
}
